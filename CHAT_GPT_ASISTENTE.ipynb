{
 "cells": [
  {
   "cell_type": "code",
   "execution_count": 23,
   "id": "7e236256-072d-44fb-808d-12d2519998a6",
   "metadata": {},
   "outputs": [
    {
     "name": "stdout",
     "output_type": "stream",
     "text": [
      "{\n",
      "  \"response\": \"Hasta la fecha de corte, algunas de las publicaciones más recientes sobre el tema de lavado de dinero utilizando aprendizaje profundo incluyen estudios y análisis que exploran modelos de redes neuronales profundas para detectar actividades sospechosas, optimizar los sistemas de monitoreo de transacciones y mejorar los métodos de clasificación y predicción en el sector financiero. Sin embargo, necesitaría más detalles o acceso a bases de datos académicas actualizadas para proporcionar títulos específicos y autores de estos estudios. Te recomiendo buscar en bases de datos como PubMed, IEEE, ScienceDirect o Google Scholar para encontrar las publicaciones más recientes y relevantes sobre este tema.\"\n",
      "}\n"
     ]
    }
   ],
   "source": [
    "from openai import OpenAI\n",
    "\n",
    "def get_response(messages):\n",
    "    client = OpenAI(api_key=\"YOUR_API_KEY_HERE\")\n",
    "\n",
    "    response = client.chat.completions.create(\n",
    "        model=\"gpt-4-turbo\",\n",
    "        response_format={ \"type\": \"json_object\" },\n",
    "        messages=messages\n",
    "    )\n",
    "\n",
    "    return response\n",
    "\n",
    "# Uso de la función con una conversación de ejemplo\n",
    "messages = [\n",
    "    {\"role\": \"system\", \"content\": \"Eres un asistente experto en escritura de publicaciones cientificas de revision de la literatura y tu respuesta debe ser en formato JSON.\"},\n",
    "    {\"role\": \"user\", \"content\": \"Que publicaciones son las mas recientes contra el lavado de dinero con aprendisaje profundo\"},\n",
    "]\n",
    "\n",
    "response = get_response(messages)\n",
    "respuesta = response.choices[0].message.content\n",
    "\n",
    "print(respuesta)\n"
   ]
  },
  {
   "cell_type": "code",
   "execution_count": null,
   "id": "7a7493f8-8509-41ed-8e65-b1ab9e518a81",
   "metadata": {},
   "outputs": [],
   "source": []
  }
 ],
 "metadata": {
  "kernelspec": {
   "display_name": "Python 3 (ipykernel)",
   "language": "python",
   "name": "python3"
  },
  "language_info": {
   "codemirror_mode": {
    "name": "ipython",
    "version": 3
   },
   "file_extension": ".py",
   "mimetype": "text/x-python",
   "name": "python",
   "nbconvert_exporter": "python",
   "pygments_lexer": "ipython3",
   "version": "3.11.7"
  }
 },
 "nbformat": 4,
 "nbformat_minor": 5
}
